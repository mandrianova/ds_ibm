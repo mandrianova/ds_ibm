{
 "cells": [
  {
   "metadata": {},
   "cell_type": "markdown",
   "source": "# Data Science Tools and Ecosystem",
   "id": "b9a9010381cda84c"
  },
  {
   "metadata": {},
   "cell_type": "markdown",
   "source": "In this notebook, Data Science Tools and Ecosystem are summarized.",
   "id": "bd063eef55d7d2c6"
  },
  {
   "metadata": {},
   "cell_type": "markdown",
   "source": [
    "**Objectives:**\n",
    "1. Understand the tools and ecosystem of Data Science\n",
    "2. Learn about the popular languages and libraries used by Data Scientists\n",
    "3. Explore the different tools used in Data Science\n",
    "4. Evaluate arithmetic expressions in Python\n",
    "5. Convert minutes to hours\n",
    "\n",
    "## Author Margarita Andrianova"
   ],
   "id": "d80ed7823cff6ab7"
  },
  {
   "metadata": {},
   "cell_type": "markdown",
   "source": [
    "Some of the popular languages that Data Scientists use are:\n",
    "1. Python\n",
    "2. R\n",
    "3. Julia\n",
    "4. Scala\n",
    "5. Java\n",
    "6. SQL"
   ],
   "id": "b198668aa1393b0d"
  },
  {
   "metadata": {},
   "cell_type": "markdown",
   "source": [
    "Some of the commonly used libraries used by Data Scientists include:\n",
    "1. Numpy\n",
    "2. Pandas\n",
    "3. Matplotlib\n",
    "4. Seaborn\n",
    "5. Scikit-learn\n",
    "6. TensorFlow\n",
    "7. Keras\n",
    "8. PyTorch\n",
    "9. NLTK"
   ],
   "id": "dc876ff735a7d9ea"
  },
  {
   "metadata": {},
   "cell_type": "markdown",
   "source": [
    "| Data Science Tools       |\n",
    "|--------------------------|\n",
    "| Jupyter Notebook         |\n",
    "| Google Colab             |\n",
    "| IBM Watson Studio        |\n",
    "| Databricks               |\n",
    "| Anaconda                 |\n",
    "| Tableau                  |\n",
    "| Power BI                 |\n",
    "| QlikView                 |\n",
    "| SAS                      |\n"
   ],
   "id": "9d992be8b68eccd8"
  },
  {
   "metadata": {},
   "cell_type": "markdown",
   "source": [
    "### Below are a few examples of evaluating arithmetic expressions in Python:\n",
    "```python\n",
    "# Addition\n",
    "2 + 3\n",
    "# Subtraction\n",
    "5 - 3\n",
    "# Multiplication\n",
    "2 * 3\n",
    "# Division\n",
    "6 / 3\n",
    "# Exponentiation\n",
    "2 ** 3\n",
    "# Modulus\n",
    "5 % 2\n",
    "```"
   ],
   "id": "a674a68fe328f99d"
  },
  {
   "metadata": {
    "ExecuteTime": {
     "end_time": "2024-04-10T07:00:15.561711Z",
     "start_time": "2024-04-10T07:00:15.558867Z"
    }
   },
   "cell_type": "code",
   "source": [
    "# This a simple arithmetic expression to multiply then add integers\n",
    "(3*4)+5"
   ],
   "id": "817a68caaf32eb57",
   "outputs": [
    {
     "data": {
      "text/plain": [
       "17"
      ]
     },
     "execution_count": 2,
     "metadata": {},
     "output_type": "execute_result"
    }
   ],
   "execution_count": 2
  },
  {
   "metadata": {
    "ExecuteTime": {
     "end_time": "2024-04-10T07:01:36.849283Z",
     "start_time": "2024-04-10T07:01:36.844764Z"
    }
   },
   "cell_type": "code",
   "source": [
    "# Convert 200 minutes to hours\n",
    "200/60"
   ],
   "id": "30a24f34d5f6f06",
   "outputs": [
    {
     "data": {
      "text/plain": [
       "3.3333333333333335"
      ]
     },
     "execution_count": 3,
     "metadata": {},
     "output_type": "execute_result"
    }
   ],
   "execution_count": 3
  },
  {
   "metadata": {},
   "cell_type": "code",
   "outputs": [],
   "execution_count": null,
   "source": "",
   "id": "18056e464da2faf4"
  }
 ],
 "metadata": {
  "kernelspec": {
   "display_name": "Python 3",
   "language": "python",
   "name": "python3"
  },
  "language_info": {
   "codemirror_mode": {
    "name": "ipython",
    "version": 2
   },
   "file_extension": ".py",
   "mimetype": "text/x-python",
   "name": "python",
   "nbconvert_exporter": "python",
   "pygments_lexer": "ipython2",
   "version": "2.7.6"
  }
 },
 "nbformat": 4,
 "nbformat_minor": 5
}
