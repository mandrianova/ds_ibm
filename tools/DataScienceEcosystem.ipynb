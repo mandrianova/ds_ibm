{
 "cells": [
  {
   "cell_type": "markdown",
   "id": "b9a9010381cda84c",
   "metadata": {},
   "source": [
    "# Data Science Tools and Ecosystem"
   ]
  },
  {
   "cell_type": "markdown",
   "id": "bd063eef55d7d2c6",
   "metadata": {},
   "source": [
    "In this notebook, Data Science Tools and Ecosystem are summarized."
   ]
  },
  {
   "cell_type": "markdown",
   "id": "d80ed7823cff6ab7",
   "metadata": {},
   "source": [
    "**Objectives:**\n",
    "1. Understand the tools and ecosystem of Data Science\n",
    "2. Learn about the popular languages and libraries used by Data Scientists\n",
    "3. Explore the different tools used in Data Science\n",
    "4. Evaluate arithmetic expressions in Python\n",
    "5. Convert minutes to hours\n",
    "\n",
    "## Author Margarita Andrianova"
   ]
  },
  {
   "cell_type": "markdown",
   "id": "b198668aa1393b0d",
   "metadata": {},
   "source": [
    "Some of the popular languages that Data Scientists use are:\n",
    "1. Python\n",
    "2. R\n",
    "3. Julia\n",
    "4. Scala\n",
    "5. Java\n",
    "6. SQL"
   ]
  },
  {
   "cell_type": "markdown",
   "id": "dc876ff735a7d9ea",
   "metadata": {},
   "source": [
    "Some of the commonly used libraries used by Data Scientists include:\n",
    "1. Numpy\n",
    "2. Pandas\n",
    "3. Matplotlib\n",
    "4. Seaborn\n",
    "5. Scikit-learn\n",
    "6. TensorFlow\n",
    "7. Keras\n",
    "8. PyTorch\n",
    "9. NLTK"
   ]
  },
  {
   "cell_type": "markdown",
   "id": "9d992be8b68eccd8",
   "metadata": {},
   "source": [
    "| Data Science Tools       |\n",
    "|--------------------------|\n",
    "| Jupyter Notebook         |\n",
    "| Google Colab             |\n",
    "| IBM Watson Studio        |\n",
    "| Databricks               |\n",
    "| Anaconda                 |\n",
    "| Tableau                  |\n",
    "| Power BI                 |\n",
    "| QlikView                 |\n",
    "| SAS                      |\n"
   ]
  },
  {
   "cell_type": "markdown",
   "id": "a674a68fe328f99d",
   "metadata": {},
   "source": [
    "### Below are a few examples of evaluating arithmetic expressions in Python:\n",
    "```python\n",
    "# Addition\n",
    "2 + 3\n",
    "# Subtraction\n",
    "5 - 3\n",
    "# Multiplication\n",
    "2 * 3\n",
    "# Division\n",
    "6 / 3\n",
    "# Exponentiation\n",
    "2 ** 3\n",
    "# Modulus\n",
    "5 % 2\n",
    "```"
   ]
  },
  {
   "cell_type": "code",
   "execution_count": 2,
   "id": "817a68caaf32eb57",
   "metadata": {
    "ExecuteTime": {
     "end_time": "2024-04-10T07:00:15.561711Z",
     "start_time": "2024-04-10T07:00:15.558867Z"
    }
   },
   "outputs": [
    {
     "data": {
      "text/plain": [
       "17"
      ]
     },
     "execution_count": 2,
     "metadata": {},
     "output_type": "execute_result"
    }
   ],
   "source": [
    "# This a simple arithmetic expression to multiply then add integers\n",
    "(3*4)+5"
   ]
  },
  {
   "cell_type": "code",
   "execution_count": 3,
   "id": "30a24f34d5f6f06",
   "metadata": {
    "ExecuteTime": {
     "end_time": "2024-04-10T07:01:36.849283Z",
     "start_time": "2024-04-10T07:01:36.844764Z"
    }
   },
   "outputs": [
    {
     "data": {
      "text/plain": [
       "3.3333333333333335"
      ]
     },
     "execution_count": 3,
     "metadata": {},
     "output_type": "execute_result"
    }
   ],
   "source": [
    "# Convert 200 minutes to hours\n",
    "200/60"
   ]
  },
  {
   "cell_type": "code",
   "execution_count": null,
   "id": "18056e464da2faf4",
   "metadata": {},
   "outputs": [],
   "source": []
  }
 ],
 "metadata": {
  "kernelspec": {
   "display_name": "Python 3 (ipykernel)",
   "language": "python",
   "name": "python3"
  },
  "language_info": {
   "codemirror_mode": {
    "name": "ipython",
    "version": 3
   },
   "file_extension": ".py",
   "mimetype": "text/x-python",
   "name": "python",
   "nbconvert_exporter": "python",
   "pygments_lexer": "ipython3",
   "version": "3.10.13"
  }
 },
 "nbformat": 4,
 "nbformat_minor": 5
}
